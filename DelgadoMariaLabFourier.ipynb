{
 "cells": [
  {
   "cell_type": "code",
   "execution_count": 1,
   "metadata": {},
   "outputs": [],
   "source": [
    "import pandas as pd\n",
    "import os"
   ]
  },
  {
   "cell_type": "code",
   "execution_count": 2,
   "metadata": {},
   "outputs": [],
   "source": [
    "archivo=pd.read_csv(\"https://raw.githubusercontent.com/ComputoCienciasUniandes/FISI2029-201910/master/Seccion_1/Fourier/Datos/transacciones2008.txt\",sep=\";\", header=None, names=[ \"Fecha\" , \"Hora\",\"c\", \"Precio\" ] )\n",
    "archivo[\"Fecha\"] = archivo[\"Fecha\"].astype(str).str[0:-8]\n",
    "archivo[\"Hora\"] = archivo[\"Hora\"].astype(str).str[-8:]  \n",
    "\n",
    "#print(archivo)"
   ]
  },
  {
   "cell_type": "code",
   "execution_count": 3,
   "metadata": {},
   "outputs": [],
   "source": [
    "archivo2=pd.read_csv(\"https://raw.githubusercontent.com/ComputoCienciasUniandes/FISI2029-201910/master/Seccion_1/Fourier/Datos/transacciones2009.txt\",sep=\";\", header=None, names=[ \"Fecha\" , \"Hora\",\"c\", \"Precio\" ])\n",
    "archivo2[\"Fecha\"] = archivo2[\"Fecha\"].astype(str).str[0:-8]\n",
    "archivo2[\"Hora\"] = archivo2[\"Hora\"].astype(str).str[-8:] \n",
    "#print(archivo2)"
   ]
  },
  {
   "cell_type": "code",
   "execution_count": 4,
   "metadata": {},
   "outputs": [],
   "source": [
    "archivo3=pd.read_csv(\"https://raw.githubusercontent.com/ComputoCienciasUniandes/FISI2029-201910/master/Seccion_1/Fourier/Datos/transacciones2010.txt\",sep=\";\", header=None, names=[ \"Fecha\" , \"Hora\",\"c\", \"Precio\" ])\n",
    "archivo3[\"Fecha\"] = archivo3[\"Fecha\"].astype(str).str[0:-8]\n",
    "archivo3[\"Hora\"] = archivo3[\"Hora\"].astype(str).str[-8:] \n",
    "#print(archivo3)"
   ]
  },
  {
   "cell_type": "code",
   "execution_count": 5,
   "metadata": {},
   "outputs": [
    {
     "name": "stdout",
     "output_type": "stream",
     "text": [
      "             Fecha      Hora       c      Precio\n",
      "0         2/1/2008   8:49:33  499,00   500000,00\n",
      "1         2/1/2008   8:49:40  499,00   500000,00\n",
      "2         2/1/2008   8:49:58  499,00   100000,00\n",
      "3         2/1/2008   8:50:09  499,00   250000,00\n",
      "4         2/1/2008   8:50:17  499,40   200000,00\n",
      "5         2/1/2008   8:50:20  499,49   500000,00\n",
      "6         2/1/2008   8:50:26  499,50   500000,00\n",
      "7         2/1/2008   8:50:26  499,00   200000,00\n",
      "8         2/1/2008   8:50:34  499,49   500000,00\n",
      "9         2/1/2008   8:51:00  499,80   200000,00\n",
      "10        2/1/2008   8:54:25  499,50   250000,00\n",
      "11        2/1/2008   8:55:12  499,10  1000000,00\n",
      "12        2/1/2008   8:55:40  499,30   150000,00\n",
      "13        2/1/2008   8:55:57  499,10   200000,00\n",
      "14        2/1/2008   8:56:10  498,90   200000,00\n",
      "15        2/1/2008   8:56:13  498,85  1000000,00\n",
      "16        2/1/2008   8:57:02  498,75   100000,00\n",
      "17        2/1/2008   8:57:06  498,70  1000000,00\n",
      "18        2/1/2008   8:57:14  498,00   100000,00\n",
      "19        2/1/2008   8:58:38  498,40  1000000,00\n",
      "20        2/1/2008   9:00:14  498,45   100000,00\n",
      "21        2/1/2008   9:00:38  498,50   100000,00\n",
      "22        2/1/2008   9:01:08  498,40   500000,00\n",
      "23        2/1/2008   9:03:08  498,25   250000,00\n",
      "24        2/1/2008   9:03:09  498,25   250000,00\n",
      "25        2/1/2008   9:03:15  498,25   100000,00\n",
      "26        2/1/2008   9:03:15  498,25   400000,00\n",
      "27        2/1/2008   9:03:29  498,20  1000000,00\n",
      "28        2/1/2008   9:03:29  498,25  1000000,00\n",
      "29        2/1/2008   9:05:11  498,20   600000,00\n",
      "...            ...       ...     ...         ...\n",
      "474337  30/12/2010  12:42:10  468,20   350000,00\n",
      "474338  30/12/2010  12:45:21  468,50   150000,00\n",
      "474339  30/12/2010  12:46:27  468,00  2000000,00\n",
      "474340  30/12/2010  12:51:41  468,30   450000,00\n",
      "474341  30/12/2010  12:51:41  468,00   400000,00\n",
      "474342  30/12/2010  12:51:41  468,20   850000,00\n",
      "474343  30/12/2010  12:51:45  468,30   450000,00\n",
      "474344  30/12/2010  12:53:58  468,15   162000,00\n",
      "474345  30/12/2010  12:54:53  468,00   550000,00\n",
      "474346  30/12/2010  12:56:06  468,00   238000,00\n",
      "474347  30/12/2010  12:56:55  467,90   280000,00\n",
      "474348  30/12/2010  13:04:26  466,50   200000,00\n",
      "474349  30/12/2010  13:09:24  467,50   500000,00\n",
      "474350  30/12/2010  13:09:25  467,50   500000,00\n",
      "474351  30/12/2010  13:10:41  467,50   500000,00\n",
      "474352  30/12/2010  13:11:10  467,25   650000,00\n",
      "474353  30/12/2010  13:11:14  467,15   270000,00\n",
      "474354  30/12/2010  13:27:59  467,45   500000,00\n",
      "474355  30/12/2010  13:29:24  467,35   500000,00\n",
      "474356  30/12/2010  13:29:40  467,45   500000,00\n",
      "474357  30/12/2010  13:29:53  467,50  3000000,00\n",
      "474358  30/12/2010  13:30:11  467,50  1000000,00\n",
      "474359  30/12/2010  13:31:35  467,28   600000,00\n",
      "474360  30/12/2010  13:31:39  467,30   100000,00\n",
      "474361  30/12/2010  13:31:40  467,40   250000,00\n",
      "474362  30/12/2010  13:46:54  468,50   150000,00\n",
      "474363  30/12/2010  13:52:09  468,60   250000,00\n",
      "474364  30/12/2010  13:52:10  468,60   250000,00\n",
      "474365  30/12/2010  13:52:42  468,70   150000,00\n",
      "474366  30/12/2010  14:01:14  468,80   190000,00\n",
      "\n",
      "[1358774 rows x 4 columns]\n"
     ]
    }
   ],
   "source": [
    "concatenados=pd.concat([archivo,archivo2,archivo3])\n",
    "print(concatenados)"
   ]
  },
  {
   "cell_type": "raw",
   "metadata": {},
   "source": [
    "\n"
   ]
  },
  {
   "cell_type": "code",
   "execution_count": 6,
   "metadata": {},
   "outputs": [],
   "source": [
    "\n",
    "concatenados.to_csv(\"./data.csv\")"
   ]
  },
  {
   "cell_type": "code",
   "execution_count": null,
   "metadata": {},
   "outputs": [],
   "source": []
  },
  {
   "cell_type": "code",
   "execution_count": null,
   "metadata": {},
   "outputs": [],
   "source": []
  }
 ],
 "metadata": {
  "kernelspec": {
   "display_name": "Python 3",
   "language": "python",
   "name": "python3"
  },
  "language_info": {
   "codemirror_mode": {
    "name": "ipython",
    "version": 3
   },
   "file_extension": ".py",
   "mimetype": "text/x-python",
   "name": "python",
   "nbconvert_exporter": "python",
   "pygments_lexer": "ipython3",
   "version": "3.7.2"
  }
 },
 "nbformat": 4,
 "nbformat_minor": 2
}
