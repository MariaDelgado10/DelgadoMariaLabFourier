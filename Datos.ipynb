{
 "cells": [
  {
   "cell_type": "code",
   "execution_count": 1,
   "metadata": {},
   "outputs": [],
   "source": [
    "import numpy as np\n",
    "import pandas as pd\n",
    "import matplotlib.pylab as plt\n",
    "\n",
    "import urllib\n",
    "from io import StringIO\n",
    "from io import BytesIO\n",
    "import csv\n",
    "\n",
    "from datetime import datetime\n",
    "\n",
    "import pandas as pd\n",
    "import scipy.signal as signal"
   ]
  },
  {
   "cell_type": "code",
   "execution_count": 2,
   "metadata": {},
   "outputs": [
    {
     "name": "stdout",
     "output_type": "stream",
     "text": [
      "              Fecha      Hora       c      Precio\n",
      "0          2/1/2008   8:49:33  499,00   500000,00\n",
      "1          2/1/2008   8:49:40  499,00   500000,00\n",
      "2          2/1/2008   8:49:58  499,00   100000,00\n",
      "3          2/1/2008   8:50:09  499,00   250000,00\n",
      "4          2/1/2008   8:50:17  499,40   200000,00\n",
      "5          2/1/2008   8:50:20  499,49   500000,00\n",
      "6          2/1/2008   8:50:26  499,50   500000,00\n",
      "7          2/1/2008   8:50:26  499,00   200000,00\n",
      "8          2/1/2008   8:50:34  499,49   500000,00\n",
      "9          2/1/2008   8:51:00  499,80   200000,00\n",
      "10         2/1/2008   8:54:25  499,50   250000,00\n",
      "11         2/1/2008   8:55:12  499,10  1000000,00\n",
      "12         2/1/2008   8:55:40  499,30   150000,00\n",
      "13         2/1/2008   8:55:57  499,10   200000,00\n",
      "14         2/1/2008   8:56:10  498,90   200000,00\n",
      "15         2/1/2008   8:56:13  498,85  1000000,00\n",
      "16         2/1/2008   8:57:02  498,75   100000,00\n",
      "17         2/1/2008   8:57:06  498,70  1000000,00\n",
      "18         2/1/2008   8:57:14  498,00   100000,00\n",
      "19         2/1/2008   8:58:38  498,40  1000000,00\n",
      "20         2/1/2008   9:00:14  498,45   100000,00\n",
      "21         2/1/2008   9:00:38  498,50   100000,00\n",
      "22         2/1/2008   9:01:08  498,40   500000,00\n",
      "23         2/1/2008   9:03:08  498,25   250000,00\n",
      "24         2/1/2008   9:03:09  498,25   250000,00\n",
      "25         2/1/2008   9:03:15  498,25   100000,00\n",
      "26         2/1/2008   9:03:15  498,25   400000,00\n",
      "27         2/1/2008   9:03:29  498,20  1000000,00\n",
      "28         2/1/2008   9:03:29  498,25  1000000,00\n",
      "29         2/1/2008   9:05:11  498,20   600000,00\n",
      "...             ...       ...     ...         ...\n",
      "1358744  30/12/2010  12:42:10  468,20   350000,00\n",
      "1358745  30/12/2010  12:45:21  468,50   150000,00\n",
      "1358746  30/12/2010  12:46:27  468,00  2000000,00\n",
      "1358747  30/12/2010  12:51:41  468,30   450000,00\n",
      "1358748  30/12/2010  12:51:41  468,00   400000,00\n",
      "1358749  30/12/2010  12:51:41  468,20   850000,00\n",
      "1358750  30/12/2010  12:51:45  468,30   450000,00\n",
      "1358751  30/12/2010  12:53:58  468,15   162000,00\n",
      "1358752  30/12/2010  12:54:53  468,00   550000,00\n",
      "1358753  30/12/2010  12:56:06  468,00   238000,00\n",
      "1358754  30/12/2010  12:56:55  467,90   280000,00\n",
      "1358755  30/12/2010  13:04:26  466,50   200000,00\n",
      "1358756  30/12/2010  13:09:24  467,50   500000,00\n",
      "1358757  30/12/2010  13:09:25  467,50   500000,00\n",
      "1358758  30/12/2010  13:10:41  467,50   500000,00\n",
      "1358759  30/12/2010  13:11:10  467,25   650000,00\n",
      "1358760  30/12/2010  13:11:14  467,15   270000,00\n",
      "1358761  30/12/2010  13:27:59  467,45   500000,00\n",
      "1358762  30/12/2010  13:29:24  467,35   500000,00\n",
      "1358763  30/12/2010  13:29:40  467,45   500000,00\n",
      "1358764  30/12/2010  13:29:53  467,50  3000000,00\n",
      "1358765  30/12/2010  13:30:11  467,50  1000000,00\n",
      "1358766  30/12/2010  13:31:35  467,28   600000,00\n",
      "1358767  30/12/2010  13:31:39  467,30   100000,00\n",
      "1358768  30/12/2010  13:31:40  467,40   250000,00\n",
      "1358769  30/12/2010  13:46:54  468,50   150000,00\n",
      "1358770  30/12/2010  13:52:09  468,60   250000,00\n",
      "1358771  30/12/2010  13:52:10  468,60   250000,00\n",
      "1358772  30/12/2010  13:52:42  468,70   150000,00\n",
      "1358773  30/12/2010  14:01:14  468,80   190000,00\n",
      "\n",
      "[1358774 rows x 4 columns]\n"
     ]
    }
   ],
   "source": [
    "data=pd.read_csv(\"data.csv\",usecols=[1,2,3,4])\n",
    "print(data)"
   ]
  },
  {
   "cell_type": "code",
   "execution_count": 3,
   "metadata": {},
   "outputs": [],
   "source": [
    "x=data[\"Fecha\"]#[0:15000]\n",
    "#print(x)"
   ]
  },
  {
   "cell_type": "code",
   "execution_count": 6,
   "metadata": {},
   "outputs": [],
   "source": [
    "y=data[\"Precio\"]#[0:15000]\n",
    "#print(y)"
   ]
  },
  {
   "cell_type": "code",
   "execution_count": 7,
   "metadata": {},
   "outputs": [
    {
     "data": {
      "text/plain": [
       "[<matplotlib.lines.Line2D at 0x7fcc4166ff60>]"
      ]
     },
     "execution_count": 7,
     "metadata": {},
     "output_type": "execute_result"
    },
    {
     "data": {
      "image/png": "[encoded data removed]",
      "text/plain": [
       "<Figure size 432x288 with 1 Axes>"
      ]
     },
     "metadata": {
      "needs_background": "light"
     },
     "output_type": "display_data"
    }
   ],
   "source": [
    "plt.figure()\n",
    "plt.plot(x,y)\n"
   ]
  },
  {
   "cell_type": "code",
   "execution_count": 8,
   "metadata": {},
   "outputs": [],
   "source": [
    "N  = 2    # Orden del filtro\n",
    "Wn = 0.01 # Corte de frecuancia\n",
    "B, A = signal.butter(N, Wn)"
   ]
  },
  {
   "cell_type": "code",
   "execution_count": 115,
   "metadata": {},
   "outputs": [
    {
     "ename": "TypeError",
     "evalue": "unsupported operand type(s) for -: 'str' and 'str'",
     "output_type": "error",
     "traceback": [
      "\u001b[0;31m---------------------------------------------------------------------------\u001b[0m",
      "\u001b[0;31mTypeError\u001b[0m                                 Traceback (most recent call last)",
      "\u001b[0;32m<ipython-input-115-f7d375539e75>\u001b[0m in \u001b[0;36m<module>\u001b[0;34m\u001b[0m\n\u001b[0;32m----> 1\u001b[0;31m \u001b[0my_filtrada\u001b[0m \u001b[0;34m=\u001b[0m \u001b[0msignal\u001b[0m\u001b[0;34m.\u001b[0m\u001b[0mfiltfilt\u001b[0m\u001b[0;34m(\u001b[0m \u001b[0mB\u001b[0m\u001b[0;34m,\u001b[0m \u001b[0mA\u001b[0m\u001b[0;34m,\u001b[0m\u001b[0my\u001b[0m\u001b[0;34m)\u001b[0m\u001b[0;34m\u001b[0m\u001b[0;34m\u001b[0m\u001b[0m\n\u001b[0m",
      "\u001b[0;32m/srv/conda/lib/python3.7/site-packages/scipy/signal/signaltools.py\u001b[0m in \u001b[0;36mfiltfilt\u001b[0;34m(b, a, x, axis, padtype, padlen, method, irlen)\u001b[0m\n\u001b[1;32m   3124\u001b[0m     \u001b[0;31m# method == \"pad\"\u001b[0m\u001b[0;34m\u001b[0m\u001b[0;34m\u001b[0m\u001b[0;34m\u001b[0m\u001b[0m\n\u001b[1;32m   3125\u001b[0m     edge, ext = _validate_pad(padtype, padlen, x, axis,\n\u001b[0;32m-> 3126\u001b[0;31m                               ntaps=max(len(a), len(b)))\n\u001b[0m\u001b[1;32m   3127\u001b[0m \u001b[0;34m\u001b[0m\u001b[0m\n\u001b[1;32m   3128\u001b[0m     \u001b[0;31m# Get the steady state of the filter's step response.\u001b[0m\u001b[0;34m\u001b[0m\u001b[0;34m\u001b[0m\u001b[0;34m\u001b[0m\u001b[0m\n",
      "\u001b[0;32m/srv/conda/lib/python3.7/site-packages/scipy/signal/signaltools.py\u001b[0m in \u001b[0;36m_validate_pad\u001b[0;34m(padtype, padlen, x, axis, ntaps)\u001b[0m\n\u001b[1;32m   3182\u001b[0m             \u001b[0mext\u001b[0m \u001b[0;34m=\u001b[0m \u001b[0meven_ext\u001b[0m\u001b[0;34m(\u001b[0m\u001b[0mx\u001b[0m\u001b[0;34m,\u001b[0m \u001b[0medge\u001b[0m\u001b[0;34m,\u001b[0m \u001b[0maxis\u001b[0m\u001b[0;34m=\u001b[0m\u001b[0maxis\u001b[0m\u001b[0;34m)\u001b[0m\u001b[0;34m\u001b[0m\u001b[0;34m\u001b[0m\u001b[0m\n\u001b[1;32m   3183\u001b[0m         \u001b[0;32melif\u001b[0m \u001b[0mpadtype\u001b[0m \u001b[0;34m==\u001b[0m \u001b[0;34m'odd'\u001b[0m\u001b[0;34m:\u001b[0m\u001b[0;34m\u001b[0m\u001b[0;34m\u001b[0m\u001b[0m\n\u001b[0;32m-> 3184\u001b[0;31m             \u001b[0mext\u001b[0m \u001b[0;34m=\u001b[0m \u001b[0modd_ext\u001b[0m\u001b[0;34m(\u001b[0m\u001b[0mx\u001b[0m\u001b[0;34m,\u001b[0m \u001b[0medge\u001b[0m\u001b[0;34m,\u001b[0m \u001b[0maxis\u001b[0m\u001b[0;34m=\u001b[0m\u001b[0maxis\u001b[0m\u001b[0;34m)\u001b[0m\u001b[0;34m\u001b[0m\u001b[0;34m\u001b[0m\u001b[0m\n\u001b[0m\u001b[1;32m   3185\u001b[0m         \u001b[0;32melse\u001b[0m\u001b[0;34m:\u001b[0m\u001b[0;34m\u001b[0m\u001b[0;34m\u001b[0m\u001b[0m\n\u001b[1;32m   3186\u001b[0m             \u001b[0mext\u001b[0m \u001b[0;34m=\u001b[0m \u001b[0mconst_ext\u001b[0m\u001b[0;34m(\u001b[0m\u001b[0mx\u001b[0m\u001b[0;34m,\u001b[0m \u001b[0medge\u001b[0m\u001b[0;34m,\u001b[0m \u001b[0maxis\u001b[0m\u001b[0;34m=\u001b[0m\u001b[0maxis\u001b[0m\u001b[0;34m)\u001b[0m\u001b[0;34m\u001b[0m\u001b[0;34m\u001b[0m\u001b[0m\n",
      "\u001b[0;32m/srv/conda/lib/python3.7/site-packages/scipy/signal/_arraytools.py\u001b[0m in \u001b[0;36modd_ext\u001b[0;34m(x, n, axis)\u001b[0m\n\u001b[1;32m    100\u001b[0m     \u001b[0mright_end\u001b[0m \u001b[0;34m=\u001b[0m \u001b[0maxis_slice\u001b[0m\u001b[0;34m(\u001b[0m\u001b[0mx\u001b[0m\u001b[0;34m,\u001b[0m \u001b[0mstart\u001b[0m\u001b[0;34m=\u001b[0m\u001b[0;34m-\u001b[0m\u001b[0;36m1\u001b[0m\u001b[0;34m,\u001b[0m \u001b[0maxis\u001b[0m\u001b[0;34m=\u001b[0m\u001b[0maxis\u001b[0m\u001b[0;34m)\u001b[0m\u001b[0;34m\u001b[0m\u001b[0;34m\u001b[0m\u001b[0m\n\u001b[1;32m    101\u001b[0m     \u001b[0mright_ext\u001b[0m \u001b[0;34m=\u001b[0m \u001b[0maxis_slice\u001b[0m\u001b[0;34m(\u001b[0m\u001b[0mx\u001b[0m\u001b[0;34m,\u001b[0m \u001b[0mstart\u001b[0m\u001b[0;34m=\u001b[0m\u001b[0;34m-\u001b[0m\u001b[0;36m2\u001b[0m\u001b[0;34m,\u001b[0m \u001b[0mstop\u001b[0m\u001b[0;34m=\u001b[0m\u001b[0;34m-\u001b[0m\u001b[0;34m(\u001b[0m\u001b[0mn\u001b[0m \u001b[0;34m+\u001b[0m \u001b[0;36m2\u001b[0m\u001b[0;34m)\u001b[0m\u001b[0;34m,\u001b[0m \u001b[0mstep\u001b[0m\u001b[0;34m=\u001b[0m\u001b[0;34m-\u001b[0m\u001b[0;36m1\u001b[0m\u001b[0;34m,\u001b[0m \u001b[0maxis\u001b[0m\u001b[0;34m=\u001b[0m\u001b[0maxis\u001b[0m\u001b[0;34m)\u001b[0m\u001b[0;34m\u001b[0m\u001b[0;34m\u001b[0m\u001b[0m\n\u001b[0;32m--> 102\u001b[0;31m     ext = np.concatenate((2 * left_end - left_ext,\n\u001b[0m\u001b[1;32m    103\u001b[0m                           \u001b[0mx\u001b[0m\u001b[0;34m,\u001b[0m\u001b[0;34m\u001b[0m\u001b[0;34m\u001b[0m\u001b[0m\n\u001b[1;32m    104\u001b[0m                           2 * right_end - right_ext),\n",
      "\u001b[0;31mTypeError\u001b[0m: unsupported operand type(s) for -: 'str' and 'str'"
     ]
    }
   ],
   "source": []
  },
  {
   "cell_type": "code",
   "execution_count": null,
   "metadata": {},
   "outputs": [],
   "source": []
  },
  {
   "cell_type": "code",
   "execution_count": null,
   "metadata": {},
   "outputs": [],
   "source": [
    ",skiprows=[0]"
   ]
  }
 ],
 "metadata": {
  "kernelspec": {
   "display_name": "Python 3",
   "language": "python",
   "name": "python3"
  },
  "language_info": {
   "codemirror_mode": {
    "name": "ipython",
    "version": 3
   },
   "file_extension": ".py",
   "mimetype": "text/x-python",
   "name": "python",
   "nbconvert_exporter": "python",
   "pygments_lexer": "ipython3",
   "version": "3.7.2"
  }
 },
 "nbformat": 4,
 "nbformat_minor": 2
}
